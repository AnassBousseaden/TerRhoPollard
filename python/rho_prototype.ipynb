{
 "cells": [
  {
   "cell_type": "code",
   "execution_count": 13,
   "metadata": {},
   "outputs": [],
   "source": [
    "#p=next_prime(2<<1024)\n",
    "#K=GF(p) #on prend un corps sur un nb premier a 1024 bit\n",
    "\n",
    "#le but c'est de calculer log_g(h)\n",
    "#G=<g> (groupe multiplicatif) (inclus dans F_p)\n",
    "\n",
    "\n",
    "\n",
    "def rho(g,h,n): #version de base de Pollard\n",
    "    Y_EVEN,Y = 1,1 #Y_EVEN c'est y_2i\n",
    "    A_EVEN,A = 0,0\n",
    "    B_EVEN,B = 0,0\n",
    "    r = 0\n",
    "    while True :\n",
    "        Y,A,B = f(Y,A,B,g,h,n)\n",
    "        Y_EVEN,A_EVEN,B_EVEN=f(Y_EVEN,A_EVEN,B_EVEN,g,h,n) #f_(2i+1)\n",
    "        Y_EVEN,A_EVEN,B_EVEN=f(Y_EVEN,A_EVEN,B_EVEN,g,h,n) #f_(2i+2)=f_(2(i+1))\n",
    "        #detection collision \n",
    "        if Y == Y_EVEN:\n",
    "            r = (B-B_EVEN) % n\n",
    "            if r == 0:\n",
    "                return None\n",
    "            return (inverse_mod(r,n) * (A_EVEN - A)) % n"
   ]
  },
  {
   "cell_type": "code",
   "execution_count": 10,
   "metadata": {},
   "outputs": [],
   "source": [
    "def f(Y,A,B,g,h,n): #fonction d'itération\n",
    "    z=int(Y) %3\n",
    "    if z == 1: # S1\n",
    "        return h * Y , A , (B+1) % n\n",
    "    if z == 0: # S2\n",
    "        return Y * Y, (2*A) % n ,(2*B) % n\n",
    "    if z == 2: # S3\n",
    "        return g *Y , (A+1) % n , B\n",
    "    return None"
   ]
  },
  {
   "cell_type": "code",
   "execution_count": 11,
   "metadata": {},
   "outputs": [],
   "source": [
    "k=GF(73444369018733371604269859784673581705291978817537367841289269628017917820929) #corps dna lequel on travail\n",
    "g=k(46488566647455715080639899818268682802405031962981198546567620565574546021478) #générateur\n",
    "h=k(53507368873174688105128430986421223474685031827278719461385006936157031373306) \n",
    "n=178533371279863 #ordre du sous groupe engendré par g"
   ]
  },
  {
   "cell_type": "markdown",
   "metadata": {},
   "source": [
    "Nous souhaitons calculer $log_g(h)$ "
   ]
  },
  {
   "cell_type": "code",
   "execution_count": 12,
   "metadata": {},
   "outputs": [
    {
     "name": "stdout",
     "output_type": "stream",
     "text": [
      "454514\n"
     ]
    }
   ],
   "source": [
    "l=[]\n",
    "print(rho(g,h,n))"
   ]
  },
  {
   "cell_type": "markdown",
   "metadata": {},
   "source": [
    "generate (q de taille 64,p de taille 512) such that q|p-1"
   ]
  },
  {
   "cell_type": "code",
   "execution_count": 33,
   "metadata": {},
   "outputs": [
    {
     "data": {
      "text/plain": [
       "1703604178734663481"
      ]
     },
     "execution_count": 33,
     "metadata": {},
     "output_type": "execute_result"
    }
   ],
   "source": [
    "q=random_prime(2<<63);q"
   ]
  },
  {
   "cell_type": "code",
   "execution_count": 30,
   "metadata": {},
   "outputs": [
    {
     "data": {
      "text/plain": [
       "45627670388700361193618836013482859525795728635545107600558663871856316534480285569185152899836017680336975648213059031413464030914739662320268998139718621"
      ]
     },
     "execution_count": 30,
     "metadata": {},
     "output_type": "execute_result"
    }
   ],
   "source": [
    "a=randint(2<<512,2<<513);a"
   ]
  },
  {
   "cell_type": "code",
   "execution_count": null,
   "metadata": {},
   "outputs": [],
   "source": []
  }
 ],
 "metadata": {
  "kernelspec": {
   "display_name": "SageMath 9.4",
   "language": "sage",
   "name": "sagemath"
  },
  "language_info": {
   "codemirror_mode": {
    "name": "ipython",
    "version": 3
   },
   "file_extension": ".py",
   "mimetype": "text/x-python",
   "name": "python",
   "nbconvert_exporter": "python",
   "pygments_lexer": "ipython3",
   "version": "3.9.5"
  }
 },
 "nbformat": 4,
 "nbformat_minor": 4
}
